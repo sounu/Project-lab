{
 "cells": [
  {
   "cell_type": "code",
   "execution_count": 1,
   "metadata": {},
   "outputs": [
    {
     "name": "stdout",
     "output_type": "stream",
     "text": [
      "Loaded 62423 movies\n",
      "Number of unique genres: 24\n",
      "Genres found: action, adventure, animation, children, comedy, crime, documentary, drama, fantasy, fi, film, genres, horror, imax, listed, musical, mystery, no, noir, romance, sci, thriller, war, western\n"
     ]
    }
   ],
   "source": [
    "import pandas as pd\n",
    "import numpy as np\n",
    "import matplotlib.pyplot as plt\n",
    "import seaborn as sns\n",
    "from sklearn.feature_extraction.text import CountVectorizer\n",
    "from sklearn.neighbors import NearestNeighbors\n",
    "\n",
    "\n",
    "# Read and validate the data\n",
    "df = pd.read_csv('movies.csv')\n",
    "print(f\"Loaded {len(df)} movies\")\n",
    "\n",
    "# Verify required columns exist\n",
    "required_columns = ['movieId', 'title', 'genres']\n",
    "if not all(col in df.columns for col in required_columns):\n",
    "    raise ValueError(f\"Missing required columns. Expected: {required_columns}\")\n",
    "\n",
    "# Check for missing values\n",
    "if df['genres'].isnull().any():\n",
    "    print(\"Warning: Found missing genre values\")\n",
    "    df['genres'] = df['genres'].fillna('')\n",
    "\n",
    "# Create feature matrix from genres\n",
    "cv = CountVectorizer()\n",
    "genre_matrix = cv.fit_transform(df['genres'].str.replace('|', ' '))\n",
    "\n",
    "# Print some information about the features\n",
    "print(f\"Number of unique genres: {len(cv.get_feature_names_out())}\")\n",
    "print(\"Genres found:\", ', '.join(cv.get_feature_names_out()))\n",
    "\n",
    "# Initialize and fit KNN model\n",
    "n_neighbors = 6  # 5 recommendations + the movie itself\n",
    "knn = NearestNeighbors(n_neighbors=n_neighbors, metric='cosine')\n",
    "knn.fit(genre_matrix)\n",
    "\n",
    "# Save the processed data and models\n",
    "import pickle\n",
    "data = {\n",
    "    'df': df,\n",
    "    'knn': knn,\n",
    "    'genre_matrix': genre_matrix,\n",
    "    'cv': cv\n",
    "}\n",
    "with open('movie_data.pkl', 'wb') as f:\n",
    "    pickle.dump(data, f)"
   ]
  },
  {
   "cell_type": "code",
   "execution_count": null,
   "metadata": {},
   "outputs": [],
   "source": []
  },
  {
   "cell_type": "code",
   "execution_count": null,
   "metadata": {},
   "outputs": [],
   "source": []
  },
  {
   "cell_type": "code",
   "execution_count": 7,
   "metadata": {},
   "outputs": [],
   "source": [
    "\n"
   ]
  },
  {
   "cell_type": "code",
   "execution_count": 8,
   "metadata": {},
   "outputs": [
    {
     "data": {
      "text/html": [
       "<div>\n",
       "<style scoped>\n",
       "    .dataframe tbody tr th:only-of-type {\n",
       "        vertical-align: middle;\n",
       "    }\n",
       "\n",
       "    .dataframe tbody tr th {\n",
       "        vertical-align: top;\n",
       "    }\n",
       "\n",
       "    .dataframe thead th {\n",
       "        text-align: right;\n",
       "    }\n",
       "</style>\n",
       "<table border=\"1\" class=\"dataframe\">\n",
       "  <thead>\n",
       "    <tr style=\"text-align: right;\">\n",
       "      <th></th>\n",
       "      <th>movieId</th>\n",
       "      <th>title</th>\n",
       "      <th>genres</th>\n",
       "    </tr>\n",
       "  </thead>\n",
       "  <tbody>\n",
       "    <tr>\n",
       "      <th>0</th>\n",
       "      <td>1</td>\n",
       "      <td>Toy Story (1995)</td>\n",
       "      <td>Adventure|Animation|Children|Comedy|Fantasy</td>\n",
       "    </tr>\n",
       "    <tr>\n",
       "      <th>1</th>\n",
       "      <td>2</td>\n",
       "      <td>Jumanji (1995)</td>\n",
       "      <td>Adventure|Children|Fantasy</td>\n",
       "    </tr>\n",
       "    <tr>\n",
       "      <th>2</th>\n",
       "      <td>3</td>\n",
       "      <td>Grumpier Old Men (1995)</td>\n",
       "      <td>Comedy|Romance</td>\n",
       "    </tr>\n",
       "    <tr>\n",
       "      <th>3</th>\n",
       "      <td>4</td>\n",
       "      <td>Waiting to Exhale (1995)</td>\n",
       "      <td>Comedy|Drama|Romance</td>\n",
       "    </tr>\n",
       "    <tr>\n",
       "      <th>4</th>\n",
       "      <td>5</td>\n",
       "      <td>Father of the Bride Part II (1995)</td>\n",
       "      <td>Comedy</td>\n",
       "    </tr>\n",
       "  </tbody>\n",
       "</table>\n",
       "</div>"
      ],
      "text/plain": [
       "   movieId                               title  \\\n",
       "0        1                    Toy Story (1995)   \n",
       "1        2                      Jumanji (1995)   \n",
       "2        3             Grumpier Old Men (1995)   \n",
       "3        4            Waiting to Exhale (1995)   \n",
       "4        5  Father of the Bride Part II (1995)   \n",
       "\n",
       "                                        genres  \n",
       "0  Adventure|Animation|Children|Comedy|Fantasy  \n",
       "1                   Adventure|Children|Fantasy  \n",
       "2                               Comedy|Romance  \n",
       "3                         Comedy|Drama|Romance  \n",
       "4                                       Comedy  "
      ]
     },
     "execution_count": 8,
     "metadata": {},
     "output_type": "execute_result"
    }
   ],
   "source": [
    "df.head()"
   ]
  },
  {
   "cell_type": "code",
   "execution_count": 9,
   "metadata": {},
   "outputs": [],
   "source": [
    "# Create feature matrix from genres\n",
    "cv = CountVectorizer()\n",
    "genre_matrix = cv.fit_transform(df['genres'].str.replace('|', ' '))\n",
    "\n",
    "# Initialize and fit KNN model\n",
    "n_neighbors = 6  # 5 recommendations + the movie itself\n",
    "knn = NearestNeighbors(n_neighbors=n_neighbors, metric='cosine')\n",
    "knn.fit(genre_matrix)\n",
    "\n",
    "# Save the processed data and models\n",
    "import pickle\n",
    "data = {\n",
    "    'df': df,\n",
    "    'knn': knn,\n",
    "    'genre_matrix': genre_matrix,\n",
    "    'cv': cv\n",
    "}\n",
    "with open('movie_data.pkl', 'wb') as f:\n",
    "    pickle.dump(data, f)"
   ]
  }
 ],
 "metadata": {
  "kernelspec": {
   "display_name": "project",
   "language": "python",
   "name": "python3"
  },
  "language_info": {
   "codemirror_mode": {
    "name": "ipython",
    "version": 3
   },
   "file_extension": ".py",
   "mimetype": "text/x-python",
   "name": "python",
   "nbconvert_exporter": "python",
   "pygments_lexer": "ipython3",
   "version": "3.13.1"
  }
 },
 "nbformat": 4,
 "nbformat_minor": 2
}
